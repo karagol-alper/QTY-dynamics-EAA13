{
  "nbformat": 4,
  "nbformat_minor": 0,
  "metadata": {
    "colab": {
      "provenance": []
    },
    "kernelspec": {
      "name": "ir",
      "display_name": "R"
    },
    "language_info": {
      "name": "R"
    }
  },
  "cells": [
    {
      "cell_type": "markdown",
      "source": [
        "## **Normal Mode Analysis (NMA) in R**"
      ],
      "metadata": {
        "id": "KocokvBm0Dvq"
      }
    },
    {
      "cell_type": "code",
      "source": [
        "## Install bio3d package\n",
        "install.packages(\"bio3d\")\n",
        "library(bio3d)\n"
      ],
      "metadata": {
        "id": "aMY0ii4T1ebF",
        "colab": {
          "base_uri": "https://localhost:8080/"
        },
        "outputId": "b506f308-18d2-49b3-a8bd-1465d827ae03"
      },
      "execution_count": 1,
      "outputs": [
        {
          "output_type": "stream",
          "name": "stderr",
          "text": [
            "Installing package into ‘/usr/local/lib/R/site-library’\n",
            "(as ‘lib’ is unspecified)\n",
            "\n",
            "also installing the dependency ‘Rcpp’\n",
            "\n",
            "\n"
          ]
        }
      ]
    },
    {
      "cell_type": "code",
      "source": [
        "library(bio3d)\n",
        "\n",
        "# upload structures\n",
        "# fetch stucture\n",
        "pdb <- read.pdb(\"/content/eaa1qty.pdb\")\n",
        "## pdb <- read.pdb(\"/content/eaa1nat.pdb\")\n",
        "## pdb <- read.pdb(\"/content/eaa2qty.pdb\")\n",
        "## pdb <- read.pdb(\"/content/eaa2nat.pdb\")\n",
        "## pdb <- read.pdb(\"/content/eaa3qty.pdb\")\n",
        "## pdb <- read.pdb(\"/content/eaa3nat.pdb\")"
      ],
      "metadata": {
        "id": "iA6aMJZl3eI6"
      },
      "execution_count": 2,
      "outputs": []
    },
    {
      "cell_type": "code",
      "source": [
        "\n",
        "\n",
        "## Calculate normal modes\n",
        "modes <- nma(pdb)\n",
        "\n",
        "## Print modes\n",
        "print(modes)\n",
        "\n",
        "## Save mode 7-12\n",
        "m7 <- mktrj.nma(modes, mode=7, file=\"mode_7.pdb\")\n",
        "m8 <- mktrj.nma(modes, mode=8, file=\"mode_8.pdb\")\n",
        "m9 <- mktrj.nma(modes, mode=8, file=\"mode_9.pdb\")\n",
        "m10 <- mktrj.nma(modes, mode=8, file=\"mode_10.pdb\")\n",
        "m11 <- mktrj.nma(modes, mode=8, file=\"mode_11.pdb\")\n",
        "m12 <- mktrj.nma(modes, mode=8, file=\"mode_12.pdb\")\n",
        "\n",
        "## Plot modes\n",
        "plot(modes)\n"
      ],
      "metadata": {
        "id": "k3XOxAUU0H_k",
        "colab": {
          "base_uri": "https://localhost:8080/",
          "height": 871
        },
        "outputId": "28ee7d71-ffb7-43af-e888-6d1cc829ae0c"
      },
      "execution_count": 3,
      "outputs": [
        {
          "output_type": "stream",
          "name": "stderr",
          "text": [
            "Warning message in nma.pdb(pdb):\n",
            "“Possible multi-chain structure or missing in-structure residue(s) present\n",
            "  Fluctuations at neighboring positions may be affected.”\n"
          ]
        },
        {
          "output_type": "stream",
          "name": "stdout",
          "text": [
            " Building Hessian...\t\tDone in 0.118 seconds.\n",
            " Diagonalizing Hessian...\tDone in 0.615 seconds.\n",
            "\n",
            "Call:\n",
            "  nma.pdb(pdb = pdb)\n",
            "\n",
            "Class:\n",
            "  VibrationalModes (nma)\n",
            "\n",
            "Number of modes:\n",
            "  1224 (6 trivial)\n",
            "\n",
            "Frequencies:\n",
            "  Mode 7: \t0.011\n",
            "  Mode 8: \t0.013\n",
            "  Mode 9: \t0.015\n",
            "  Mode 10: \t0.017\n",
            "  Mode 11: \t0.017\n",
            "  Mode 12: \t0.018\n",
            "\n",
            "+ attr: modes, frequencies, force.constants, fluctuations,\n",
            "        U, L, xyz, mass, temp, triv.modes, natoms, call\n"
          ]
        },
        {
          "output_type": "display_data",
          "data": {
            "text/plain": [
              "Plot with title “Fluctuations”"
            ],
            "image/png": "[encoded data removed]"
          },
          "metadata": {
            "image/png": {
              "width": 420,
              "height": 420
            }
          }
        }
      ]
    }
  ]
}